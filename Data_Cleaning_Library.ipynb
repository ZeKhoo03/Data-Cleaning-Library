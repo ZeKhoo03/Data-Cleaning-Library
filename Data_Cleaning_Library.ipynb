{
 "cells": [
  {
   "cell_type": "code",
   "execution_count": null,
   "id": "7bf1fbc2",
   "metadata": {},
   "outputs": [],
   "source": [
    "import pandas as pd\n",
    "import seaborn as sns\n",
    "import numpy as np\n",
    "import matplotlib.pyplot as plt"
   ]
  },
  {
   "cell_type": "code",
   "execution_count": null,
   "id": "cc3da73f",
   "metadata": {},
   "outputs": [],
   "source": [
    "#this function is used to create a more detailed summary of the structure of the dataset\n",
    "def detailed_df(dataframe, head = 5):\n",
    "    print(\"##################### Shape #####################\")\n",
    "    print(dataframe.shape)\n",
    "    print(\"##################### Types #####################\")\n",
    "    print(dataframe.dtypes)\n",
    "    print(\"##################### Head #####################\")\n",
    "    print(dataframe.head(head))\n",
    "    print(\"##################### Tail #####################\")\n",
    "    print(dataframe.tail(head))\n",
    "    print(\"##################### NA #####################\")\n",
    "    print(dataframe.isnull().sum())\n",
    "    print(\"##################### Quantiles #####################\")\n",
    "    numeric_df = dataframe.select_dtypes(include='number')\n",
    "    # quantile() işlemi\n",
    "    quantiles = numeric_df.quantile([0, 0.05, 0.25, 0.50, 0.75, 0.90, 0.95, 0.99, 1]).T\n",
    "    print(quantiles)"
   ]
  },
  {
   "cell_type": "code",
   "execution_count": null,
   "id": "cd601b86",
   "metadata": {},
   "outputs": [],
   "source": [
    "#this function is used to separate columns based on categorical and numerical data\n",
    "#variables are total columns\n",
    "#cat_cols are columns classified as categorical, i.e. cat_cols +num_but_cat\n",
    "#num_cols are columns classified as numerical\n",
    "#variables = cat_cols + num_cols\n",
    "#cat_but_car are columns that should be checked to see if feature engineering should be conducted or columns should be dropped\n",
    "#num_but_cat should be analysed to determine if they are truly categorical\n",
    "\n",
    "def grab_col_names(dataframe, cat_th = 10,car_th = 20): #if num of unique values are less than cat_th(include numbers), then classify as categorical variable, if categorical values exceed car_th, put under cat_but_car\n",
    "    \n",
    "      # cat_cols, cat_but_car\n",
    "    cat_cols = [col for col in dataframe.columns if dataframe[col].dtypes == \"O\"]\n",
    "\n",
    "    num_but_cat = [col for col in dataframe.columns if dataframe[col].nunique() < cat_th and\n",
    "                   dataframe[col].dtypes != \"O\"]\n",
    "\n",
    "    cat_but_car = [col for col in dataframe.columns if dataframe[col].nunique() > car_th and\n",
    "                   dataframe[col].dtypes == \"O\"]\n",
    "\n",
    "    cat_cols = cat_cols + num_but_cat\n",
    "\n",
    "    cat_cols = [col for col in cat_cols if col not in cat_but_car]\n",
    "\n",
    "    num_cols = [col for col in dataframe.columns if dataframe[col].dtypes != \"O\"]\n",
    "\n",
    "    num_cols = [col for col in num_cols if col not in num_but_cat]\n",
    "\n",
    "\n",
    "    \n",
    "    print(f\"Observations: {dataframe.shape[0]}\")\n",
    "    print(f\"Variables: {dataframe.shape[1]}\")\n",
    "    print(f'cat_cols: {len(cat_cols)}')\n",
    "    print(f'num_cols: {len(num_cols)}')\n",
    "    print(f'cat_but_car: {len(cat_but_car)}')\n",
    "    print(f'num_but_cat: {len(num_but_cat)}')\n",
    "\n",
    "\n",
    "    return cat_cols, num_cols, cat_but_car, num_but_cat       \n",
    "\n",
    "    "
   ]
  },
  {
   "cell_type": "code",
   "execution_count": null,
   "id": "f3710f0b",
   "metadata": {},
   "outputs": [],
   "source": [
    "#this function is used to provide a more detailed summary of categorical values\n",
    "#output is number of occurence of each unique instance and a percentage\n",
    "def cat_summary(dataframe, col_name, plot = False):\n",
    "    print(pd.DataFrame({col_name: dataframe[col_name].value_counts(),\n",
    "                        \"Ratio\": 100 * dataframe[col_name].value_counts() / len(dataframe)}))\n",
    "    print(\"##########################################\")\n",
    "    if plot:\n",
    "        sns.countplot(x=dataframe[col_name], data=dataframe, palette=\"Set2\")\n",
    "        plt.xticks(rotation=45)\n",
    "        plt.show(block=True)\n"
   ]
  },
  {
   "cell_type": "code",
   "execution_count": null,
   "id": "9534cea1",
   "metadata": {},
   "outputs": [],
   "source": [
    "#this function is used to provide a more detailed summary of numerical variables\n",
    "def num_summary(dataframe, col_name, plot=False):\n",
    "    quantiles = [0.05, 0.10, 0.20, 0.30, 0.40, 0.50, 0.60, 0.70, 0.80, 0.90, 0.95, 0.99]\n",
    "    print(dataframe[col_name].describe(quantiles).T)\n",
    "\n",
    "    if plot:\n",
    "        sns.histplot(data=dataframe, x=col_name, bins=20, kde=True, color=\"blue\")\n",
    "        plt.xticks(rotation=45)\n",
    "        plt.show(block=True)"
   ]
  },
  {
   "cell_type": "code",
   "execution_count": null,
   "id": "df4835bc",
   "metadata": {},
   "outputs": [],
   "source": [
    "#this function is used to check for outliers\n",
    "def check_outlier(dataframe, col_name, q1 = 0.05,q3 = 0.95):\n",
    "    quartile1 = dataframe[col_name].quantile(q1)\n",
    "    quartile3 = dataframe[col_name].quantile(q3)\n",
    "    iqr = quartile3 - quartile1\n",
    "    up_limit = quartile3 + 1.5*iqr\n",
    "    low_limit = quartile1 - 1.5*iqr\n",
    "\n",
    "    if dataframe[(dataframe[col_name]> up_limit) | (dataframe[col_name] < low_limit)].any(axis = None):\n",
    "        return True\n",
    "    else:\n",
    "        return False"
   ]
  }
 ],
 "metadata": {
  "language_info": {
   "name": "python"
  }
 },
 "nbformat": 4,
 "nbformat_minor": 5
}
